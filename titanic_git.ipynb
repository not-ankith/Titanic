{
 "cells": [
  {
   "cell_type": "markdown",
   "id": "734b0c15",
   "metadata": {},
   "source": [
    "# Importing the dataset and Libraries"
   ]
  },
  {
   "cell_type": "markdown",
   "id": "b6ae7014",
   "metadata": {},
   "source": [
    "Python envirnoment comes with many useful libaries which contains several pre complied codes that make programming more user friendly"
   ]
  },
  {
   "cell_type": "code",
   "execution_count": 1,
   "id": "3ec492f4",
   "metadata": {},
   "outputs": [
    {
     "name": "stdout",
     "output_type": "stream",
     "text": [
      "setup complete\n"
     ]
    }
   ],
   "source": [
    "import pandas as pd\n",
    "import numpy as np \n",
    "pd.plotting.register_matplotlib_converters()\n",
    "import matplotlib.pyplot as plt\n",
    "%matplotlib inline\n",
    "import seaborn as sns\n",
    "from sklearn.preprocessing import LabelEncoder\n",
    "from sklearn.preprocessing import StandardScaler\n",
    "from sklearn import preprocessing\n",
    "from sklearn.model_selection import train_test_split\n",
    "from sklearn import preprocessing\n",
    "print(\"setup complete\")"
   ]
  },
  {
   "cell_type": "markdown",
   "id": "082eabf3",
   "metadata": {},
   "source": [
    "We will first import our CSV files using pandas. \n",
    "Here we have two seperate files for training our model and testing our trained model\n"
   ]
  },
  {
   "cell_type": "code",
   "execution_count": 2,
   "id": "02339381",
   "metadata": {},
   "outputs": [],
   "source": [
    "T_test = pd.read_csv(r\"C:\\Users\\ankit\\Documents\\T3\\test.csv\", low_memory=False)\n",
    "T_train = pd.read_csv(r\"C:\\Users\\ankit\\Documents\\T3\\train.csv\", low_memory=False)"
   ]
  },
  {
   "cell_type": "code",
   "execution_count": 3,
   "id": "b47fee32",
   "metadata": {},
   "outputs": [
    {
     "data": {
      "text/plain": [
       "<bound method NDFrame.head of      PassengerId  Pclass                                          Name  \\\n",
       "0            892       3                              Kelly, Mr. James   \n",
       "1            893       3              Wilkes, Mrs. James (Ellen Needs)   \n",
       "2            894       2                     Myles, Mr. Thomas Francis   \n",
       "3            895       3                              Wirz, Mr. Albert   \n",
       "4            896       3  Hirvonen, Mrs. Alexander (Helga E Lindqvist)   \n",
       "..           ...     ...                                           ...   \n",
       "413         1305       3                            Spector, Mr. Woolf   \n",
       "414         1306       1                  Oliva y Ocana, Dona. Fermina   \n",
       "415         1307       3                  Saether, Mr. Simon Sivertsen   \n",
       "416         1308       3                           Ware, Mr. Frederick   \n",
       "417         1309       3                      Peter, Master. Michael J   \n",
       "\n",
       "        Sex   Age  SibSp  Parch              Ticket      Fare Cabin Embarked  \n",
       "0      male  34.5      0      0              330911    7.8292   NaN        Q  \n",
       "1    female  47.0      1      0              363272    7.0000   NaN        S  \n",
       "2      male  62.0      0      0              240276    9.6875   NaN        Q  \n",
       "3      male  27.0      0      0              315154    8.6625   NaN        S  \n",
       "4    female  22.0      1      1             3101298   12.2875   NaN        S  \n",
       "..      ...   ...    ...    ...                 ...       ...   ...      ...  \n",
       "413    male   NaN      0      0           A.5. 3236    8.0500   NaN        S  \n",
       "414  female  39.0      0      0            PC 17758  108.9000  C105        C  \n",
       "415    male  38.5      0      0  SOTON/O.Q. 3101262    7.2500   NaN        S  \n",
       "416    male   NaN      0      0              359309    8.0500   NaN        S  \n",
       "417    male   NaN      1      1                2668   22.3583   NaN        C  \n",
       "\n",
       "[418 rows x 11 columns]>"
      ]
     },
     "execution_count": 3,
     "metadata": {},
     "output_type": "execute_result"
    }
   ],
   "source": [
    "T_test.head\n"
   ]
  },
  {
   "cell_type": "code",
   "execution_count": 4,
   "id": "4e454293",
   "metadata": {},
   "outputs": [
    {
     "data": {
      "text/plain": [
       "<bound method NDFrame.head of      PassengerId  Survived  Pclass  \\\n",
       "0              1         0       3   \n",
       "1              2         1       1   \n",
       "2              3         1       3   \n",
       "3              4         1       1   \n",
       "4              5         0       3   \n",
       "..           ...       ...     ...   \n",
       "886          887         0       2   \n",
       "887          888         1       1   \n",
       "888          889         0       3   \n",
       "889          890         1       1   \n",
       "890          891         0       3   \n",
       "\n",
       "                                                  Name     Sex   Age  SibSp  \\\n",
       "0                              Braund, Mr. Owen Harris    male  22.0      1   \n",
       "1    Cumings, Mrs. John Bradley (Florence Briggs Th...  female  38.0      1   \n",
       "2                               Heikkinen, Miss. Laina  female  26.0      0   \n",
       "3         Futrelle, Mrs. Jacques Heath (Lily May Peel)  female  35.0      1   \n",
       "4                             Allen, Mr. William Henry    male  35.0      0   \n",
       "..                                                 ...     ...   ...    ...   \n",
       "886                              Montvila, Rev. Juozas    male  27.0      0   \n",
       "887                       Graham, Miss. Margaret Edith  female  19.0      0   \n",
       "888           Johnston, Miss. Catherine Helen \"Carrie\"  female   NaN      1   \n",
       "889                              Behr, Mr. Karl Howell    male  26.0      0   \n",
       "890                                Dooley, Mr. Patrick    male  32.0      0   \n",
       "\n",
       "     Parch            Ticket     Fare Cabin Embarked  \n",
       "0        0         A/5 21171   7.2500   NaN        S  \n",
       "1        0          PC 17599  71.2833   C85        C  \n",
       "2        0  STON/O2. 3101282   7.9250   NaN        S  \n",
       "3        0            113803  53.1000  C123        S  \n",
       "4        0            373450   8.0500   NaN        S  \n",
       "..     ...               ...      ...   ...      ...  \n",
       "886      0            211536  13.0000   NaN        S  \n",
       "887      0            112053  30.0000   B42        S  \n",
       "888      2        W./C. 6607  23.4500   NaN        S  \n",
       "889      0            111369  30.0000  C148        C  \n",
       "890      0            370376   7.7500   NaN        Q  \n",
       "\n",
       "[891 rows x 12 columns]>"
      ]
     },
     "execution_count": 4,
     "metadata": {},
     "output_type": "execute_result"
    }
   ],
   "source": [
    "T_train.head"
   ]
  },
  {
   "cell_type": "markdown",
   "id": "3eae7ae1",
   "metadata": {},
   "source": [
    "We are creating a copy and storing the passenger id column which will later be used for output submission"
   ]
  },
  {
   "cell_type": "code",
   "execution_count": 5,
   "id": "c7c58f28",
   "metadata": {},
   "outputs": [],
   "source": [
    "old_test=T_test.copy()"
   ]
  },
  {
   "cell_type": "code",
   "execution_count": 6,
   "id": "a6f2a997",
   "metadata": {},
   "outputs": [],
   "source": [
    "idPass = old_test.iloc[:,0]"
   ]
  },
  {
   "cell_type": "markdown",
   "id": "590e0af0",
   "metadata": {},
   "source": [
    "we will drop unnecessary columns as they act as noise to our data "
   ]
  },
  {
   "cell_type": "code",
   "execution_count": 7,
   "id": "e3819a03",
   "metadata": {},
   "outputs": [],
   "source": [
    "T_train = T_train.drop([\"PassengerId\", \"Name\",\"Ticket\",\"Cabin\"], axis=1)\n",
    "T_test = T_test.drop([\"PassengerId\", \"Name\",\"Ticket\",\"Cabin\"], axis=1)"
   ]
  },
  {
   "cell_type": "markdown",
   "id": "6210328a",
   "metadata": {},
   "source": [
    "# Data Visualization"
   ]
  },
  {
   "cell_type": "code",
   "execution_count": 8,
   "id": "aac0f0c3",
   "metadata": {
    "scrolled": true
   },
   "outputs": [
    {
     "data": {
      "text/plain": [
       "<AxesSubplot:title={'center':'Sex Ratio of Travellers'}, xlabel='Sex', ylabel='count'>"
      ]
     },
     "execution_count": 8,
     "metadata": {},
     "output_type": "execute_result"
    },
    {
     "data": {
      "image/png": "[encoded data removed]",
      "text/plain": [
       "<Figure size 360x360 with 1 Axes>"
      ]
     },
     "metadata": {
      "needs_background": "light"
     },
     "output_type": "display_data"
    }
   ],
   "source": [
    "plt.figure(figsize=(5,5))\n",
    "plt.title(\"Sex Ratio of Travellers\", size = 16)\n",
    "sns.countplot(x = T_train['Sex'])\n",
    "\n",
    "\n"
   ]
  },
  {
   "cell_type": "markdown",
   "id": "36a3246a",
   "metadata": {},
   "source": [
    "Most of the travellers are male"
   ]
  },
  {
   "cell_type": "code",
   "execution_count": 9,
   "id": "a0f4eb97",
   "metadata": {
    "scrolled": true
   },
   "outputs": [
    {
     "data": {
      "text/plain": [
       "Text(0, 0.5, 'Frequency')"
      ]
     },
     "execution_count": 9,
     "metadata": {},
     "output_type": "execute_result"
    },
    {
     "data": {
      "image/png": "[encoded data removed]",
      "text/plain": [
       "<Figure size 432x288 with 1 Axes>"
      ]
     },
     "metadata": {
      "needs_background": "light"
     },
     "output_type": "display_data"
    }
   ],
   "source": [
    "%matplotlib inline\n",
    "pd.crosstab(T_train.Sex,T_train.Survived).plot(kind='bar')\n",
    "plt.title('Survived / Not survived by gender')\n",
    "plt.xlabel('Sex')\n",
    "plt.ylabel('Frequency')"
   ]
  },
  {
   "cell_type": "markdown",
   "id": "9ddcad10",
   "metadata": {},
   "source": [
    "Whether survived or not by gender,\n",
    "we can observe that most of the females made it alive but only a part of males survived"
   ]
  },
  {
   "cell_type": "code",
   "execution_count": 10,
   "id": "90cf71eb",
   "metadata": {
    "scrolled": true
   },
   "outputs": [
    {
     "data": {
      "text/plain": [
       "<AxesSubplot:title={'center':'Number of passengers in each Ticket-Class'}, xlabel='Pclass', ylabel='count'>"
      ]
     },
     "execution_count": 10,
     "metadata": {},
     "output_type": "execute_result"
    },
    {
     "data": {
      "image/png": "[encoded data removed]",
      "text/plain": [
       "<Figure size 360x432 with 1 Axes>"
      ]
     },
     "metadata": {
      "needs_background": "light"
     },
     "output_type": "display_data"
    }
   ],
   "source": [
    "plt.figure(figsize=(5,6))\n",
    "plt.title(\"Number of passengers in each Ticket-Class\", size = 16)\n",
    "sns.countplot(x = T_train['Pclass'])\n"
   ]
  },
  {
   "cell_type": "markdown",
   "id": "825c4f38",
   "metadata": {},
   "source": [
    "Total number of passengers in each class"
   ]
  },
  {
   "cell_type": "code",
   "execution_count": 11,
   "id": "5253d0c7",
   "metadata": {
    "scrolled": true
   },
   "outputs": [
    {
     "data": {
      "text/plain": [
       "Text(0, 0.5, 'Frequency')"
      ]
     },
     "execution_count": 11,
     "metadata": {},
     "output_type": "execute_result"
    },
    {
     "data": {
      "image/png": "[encoded data removed]",
      "text/plain": [
       "<Figure size 432x288 with 1 Axes>"
      ]
     },
     "metadata": {
      "needs_background": "light"
     },
     "output_type": "display_data"
    }
   ],
   "source": [
    "%matplotlib inline\n",
    "pd.crosstab(T_train.Pclass,T_train.Survived).plot(kind='bar')\n",
    "plt.title('Survived / Not survived by Pclass')\n",
    "plt.xlabel('Pclass')\n",
    "plt.ylabel('Frequency')"
   ]
  },
  {
   "cell_type": "markdown",
   "id": "1235718f",
   "metadata": {},
   "source": [
    "First class has highest percentage of survivability which indicates they were alloted with safest place on the ship"
   ]
  },
  {
   "cell_type": "code",
   "execution_count": 12,
   "id": "025e057b",
   "metadata": {
    "scrolled": true
   },
   "outputs": [
    {
     "data": {
      "text/plain": [
       "<AxesSubplot:title={'center':'Age group'}, xlabel='Age', ylabel='Count'>"
      ]
     },
     "execution_count": 12,
     "metadata": {},
     "output_type": "execute_result"
    },
    {
     "data": {
      "image/png": "[encoded data removed]",
      "text/plain": [
       "<Figure size 720x432 with 1 Axes>"
      ]
     },
     "metadata": {
      "needs_background": "light"
     },
     "output_type": "display_data"
    }
   ],
   "source": [
    "plt.figure(figsize=(10,6))\n",
    "plt.title(\"Age group\" , size =20)\n",
    "sns.histplot(x = T_train['Age'], kde = True)"
   ]
  },
  {
   "cell_type": "markdown",
   "id": "87f142a5",
   "metadata": {},
   "source": [
    "people between the ages 20 - 30 account to a major part in total number of passengers"
   ]
  },
  {
   "cell_type": "code",
   "execution_count": 13,
   "id": "faa51023",
   "metadata": {
    "scrolled": false
   },
   "outputs": [
    {
     "data": {
      "text/plain": [
       "<AxesSubplot:title={'center':'Number of passengers  based on embarkation'}, xlabel='Embarked', ylabel='count'>"
      ]
     },
     "execution_count": 13,
     "metadata": {},
     "output_type": "execute_result"
    },
    {
     "data": {
      "image/png": "[encoded data removed]",
      "text/plain": [
       "<Figure size 360x360 with 1 Axes>"
      ]
     },
     "metadata": {
      "needs_background": "light"
     },
     "output_type": "display_data"
    }
   ],
   "source": [
    "plt.figure(figsize=(5,5))\n",
    "plt.title(\"Number of passengers  based on embarkation\", size = 16)\n",
    "sns.countplot(x = T_train['Embarked'])\n"
   ]
  },
  {
   "cell_type": "code",
   "execution_count": 14,
   "id": "91f9edce",
   "metadata": {
    "scrolled": true
   },
   "outputs": [
    {
     "data": {
      "text/plain": [
       "Text(0, 0.5, 'Frequency')"
      ]
     },
     "execution_count": 14,
     "metadata": {},
     "output_type": "execute_result"
    },
    {
     "data": {
      "image/png": "[encoded data removed]",
      "text/plain": [
       "<Figure size 432x288 with 1 Axes>"
      ]
     },
     "metadata": {
      "needs_background": "light"
     },
     "output_type": "display_data"
    }
   ],
   "source": [
    "%matplotlib inline\n",
    "pd.crosstab(T_train.Embarked,T_train.Survived).plot(kind='bar')\n",
    "plt.title('Embarked by survived')\n",
    "plt.xlabel('Embarked')\n",
    "plt.ylabel('Frequency')"
   ]
  },
  {
   "cell_type": "markdown",
   "id": "be5a28ec",
   "metadata": {},
   "source": [
    "S Embarkment has most survivors "
   ]
  },
  {
   "cell_type": "code",
   "execution_count": 15,
   "id": "03348919",
   "metadata": {
    "scrolled": true
   },
   "outputs": [
    {
     "data": {
      "text/plain": [
       "<AxesSubplot:>"
      ]
     },
     "execution_count": 15,
     "metadata": {},
     "output_type": "execute_result"
    },
    {
     "data": {
      "image/png": "[encoded data removed]",
      "text/plain": [
       "<Figure size 720x720 with 2 Axes>"
      ]
     },
     "metadata": {
      "needs_background": "light"
     },
     "output_type": "display_data"
    }
   ],
   "source": [
    "correlation = T_train.corr()\n",
    "plt.figure(figsize=(10,10))\n",
    "sns.heatmap(correlation, annot=True,cmap=\"YlGnBu\")"
   ]
  },
  {
   "cell_type": "markdown",
   "id": "e0b7c0a5",
   "metadata": {},
   "source": [
    "No two features have reasonable co relation, so we continue with the same set of features"
   ]
  },
  {
   "cell_type": "markdown",
   "id": "4db72d3f",
   "metadata": {},
   "source": [
    "Now let us evaluate the number of missing values in each column "
   ]
  },
  {
   "cell_type": "code",
   "execution_count": 16,
   "id": "0beeb6ca",
   "metadata": {},
   "outputs": [
    {
     "data": {
      "text/plain": [
       "Pclass       0\n",
       "Sex          0\n",
       "Age         86\n",
       "SibSp        0\n",
       "Parch        0\n",
       "Fare         1\n",
       "Embarked     0\n",
       "dtype: int64"
      ]
     },
     "execution_count": 16,
     "metadata": {},
     "output_type": "execute_result"
    }
   ],
   "source": [
    "missing_values_count = T_test.isnull().sum()\n",
    "missing_values_count[0:10]"
   ]
  },
  {
   "cell_type": "code",
   "execution_count": 17,
   "id": "0d1db090",
   "metadata": {},
   "outputs": [
    {
     "data": {
      "text/plain": [
       "Survived      0\n",
       "Pclass        0\n",
       "Sex           0\n",
       "Age         177\n",
       "SibSp         0\n",
       "Parch         0\n",
       "Fare          0\n",
       "Embarked      2\n",
       "dtype: int64"
      ]
     },
     "execution_count": 17,
     "metadata": {},
     "output_type": "execute_result"
    }
   ],
   "source": [
    "missing_values_count = T_train.isnull().sum()\n",
    "missing_values_count[0:10]"
   ]
  },
  {
   "cell_type": "markdown",
   "id": "f03a5321",
   "metadata": {},
   "source": [
    "We will fill the missing values of Embarked column with 'S' as 'S' is most frequent element"
   ]
  },
  {
   "cell_type": "code",
   "execution_count": 18,
   "id": "92acdca9",
   "metadata": {},
   "outputs": [],
   "source": [
    "T_train = T_train.fillna({'Embarked': 'S'})"
   ]
  },
  {
   "cell_type": "markdown",
   "id": "a6967a23",
   "metadata": {},
   "source": [
    "Generally fare will be based on ticket class So, grouping both by mean values"
   ]
  },
  {
   "cell_type": "code",
   "execution_count": 19,
   "id": "914b9f07",
   "metadata": {},
   "outputs": [
    {
     "data": {
      "text/plain": [
       "Pclass\n",
       "1    94.280297\n",
       "2    22.202104\n",
       "3    12.459678\n",
       "Name: Fare, dtype: float64"
      ]
     },
     "execution_count": 19,
     "metadata": {},
     "output_type": "execute_result"
    }
   ],
   "source": [
    "T_test.groupby('Pclass')['Fare'].mean()\n"
   ]
  },
  {
   "cell_type": "markdown",
   "id": "7b07f104",
   "metadata": {},
   "source": [
    "Now finding the missing fare value and replacing it with mean of its respective class"
   ]
  },
  {
   "cell_type": "code",
   "execution_count": 20,
   "id": "d1916940",
   "metadata": {},
   "outputs": [
    {
     "data": {
      "text/html": [
       "<div>\n",
       "<style scoped>\n",
       "    .dataframe tbody tr th:only-of-type {\n",
       "        vertical-align: middle;\n",
       "    }\n",
       "\n",
       "    .dataframe tbody tr th {\n",
       "        vertical-align: top;\n",
       "    }\n",
       "\n",
       "    .dataframe thead th {\n",
       "        text-align: right;\n",
       "    }\n",
       "</style>\n",
       "<table border=\"1\" class=\"dataframe\">\n",
       "  <thead>\n",
       "    <tr style=\"text-align: right;\">\n",
       "      <th></th>\n",
       "      <th>Pclass</th>\n",
       "      <th>Sex</th>\n",
       "      <th>Age</th>\n",
       "      <th>SibSp</th>\n",
       "      <th>Parch</th>\n",
       "      <th>Fare</th>\n",
       "      <th>Embarked</th>\n",
       "    </tr>\n",
       "  </thead>\n",
       "  <tbody>\n",
       "    <tr>\n",
       "      <th>152</th>\n",
       "      <td>3</td>\n",
       "      <td>male</td>\n",
       "      <td>60.5</td>\n",
       "      <td>0</td>\n",
       "      <td>0</td>\n",
       "      <td>NaN</td>\n",
       "      <td>S</td>\n",
       "    </tr>\n",
       "  </tbody>\n",
       "</table>\n",
       "</div>"
      ],
      "text/plain": [
       "     Pclass   Sex   Age  SibSp  Parch  Fare Embarked\n",
       "152       3  male  60.5      0      0   NaN        S"
      ]
     },
     "execution_count": 20,
     "metadata": {},
     "output_type": "execute_result"
    }
   ],
   "source": [
    "T_test[T_test.Fare.isna()]\n"
   ]
  },
  {
   "cell_type": "code",
   "execution_count": 21,
   "id": "a6d24e41",
   "metadata": {},
   "outputs": [],
   "source": [
    "T_test = T_test.fillna({'Fare': 12.459678})"
   ]
  },
  {
   "cell_type": "markdown",
   "id": "787a52ed",
   "metadata": {},
   "source": [
    "Replacing missing age values with mean"
   ]
  },
  {
   "cell_type": "code",
   "execution_count": 22,
   "id": "f19a3438",
   "metadata": {},
   "outputs": [],
   "source": [
    "T_train['Age'] = T_train['Age'].fillna(T_train['Age'].mean())\n",
    "T_test['Age'] = T_test['Age'].fillna(T_test['Age'].mean())"
   ]
  },
  {
   "cell_type": "markdown",
   "id": "2aca246f",
   "metadata": {},
   "source": [
    "# Pre-processing"
   ]
  },
  {
   "cell_type": "markdown",
   "id": "7e8f2026",
   "metadata": {},
   "source": [
    "Converting categorial variable (Sex) into numerical using  label encoder"
   ]
  },
  {
   "cell_type": "code",
   "execution_count": 23,
   "id": "8a89216a",
   "metadata": {},
   "outputs": [
    {
     "data": {
      "text/html": [
       "<div>\n",
       "<style scoped>\n",
       "    .dataframe tbody tr th:only-of-type {\n",
       "        vertical-align: middle;\n",
       "    }\n",
       "\n",
       "    .dataframe tbody tr th {\n",
       "        vertical-align: top;\n",
       "    }\n",
       "\n",
       "    .dataframe thead th {\n",
       "        text-align: right;\n",
       "    }\n",
       "</style>\n",
       "<table border=\"1\" class=\"dataframe\">\n",
       "  <thead>\n",
       "    <tr style=\"text-align: right;\">\n",
       "      <th></th>\n",
       "      <th>Survived</th>\n",
       "      <th>Pclass</th>\n",
       "      <th>Sex</th>\n",
       "      <th>Age</th>\n",
       "      <th>SibSp</th>\n",
       "      <th>Parch</th>\n",
       "      <th>Fare</th>\n",
       "      <th>Embarked</th>\n",
       "    </tr>\n",
       "  </thead>\n",
       "  <tbody>\n",
       "    <tr>\n",
       "      <th>0</th>\n",
       "      <td>0</td>\n",
       "      <td>3</td>\n",
       "      <td>1</td>\n",
       "      <td>22.0</td>\n",
       "      <td>1</td>\n",
       "      <td>0</td>\n",
       "      <td>7.2500</td>\n",
       "      <td>S</td>\n",
       "    </tr>\n",
       "    <tr>\n",
       "      <th>1</th>\n",
       "      <td>1</td>\n",
       "      <td>1</td>\n",
       "      <td>0</td>\n",
       "      <td>38.0</td>\n",
       "      <td>1</td>\n",
       "      <td>0</td>\n",
       "      <td>71.2833</td>\n",
       "      <td>C</td>\n",
       "    </tr>\n",
       "    <tr>\n",
       "      <th>2</th>\n",
       "      <td>1</td>\n",
       "      <td>3</td>\n",
       "      <td>0</td>\n",
       "      <td>26.0</td>\n",
       "      <td>0</td>\n",
       "      <td>0</td>\n",
       "      <td>7.9250</td>\n",
       "      <td>S</td>\n",
       "    </tr>\n",
       "    <tr>\n",
       "      <th>3</th>\n",
       "      <td>1</td>\n",
       "      <td>1</td>\n",
       "      <td>0</td>\n",
       "      <td>35.0</td>\n",
       "      <td>1</td>\n",
       "      <td>0</td>\n",
       "      <td>53.1000</td>\n",
       "      <td>S</td>\n",
       "    </tr>\n",
       "    <tr>\n",
       "      <th>4</th>\n",
       "      <td>0</td>\n",
       "      <td>3</td>\n",
       "      <td>1</td>\n",
       "      <td>35.0</td>\n",
       "      <td>0</td>\n",
       "      <td>0</td>\n",
       "      <td>8.0500</td>\n",
       "      <td>S</td>\n",
       "    </tr>\n",
       "  </tbody>\n",
       "</table>\n",
       "</div>"
      ],
      "text/plain": [
       "   Survived  Pclass  Sex   Age  SibSp  Parch     Fare Embarked\n",
       "0         0       3    1  22.0      1      0   7.2500        S\n",
       "1         1       1    0  38.0      1      0  71.2833        C\n",
       "2         1       3    0  26.0      0      0   7.9250        S\n",
       "3         1       1    0  35.0      1      0  53.1000        S\n",
       "4         0       3    1  35.0      0      0   8.0500        S"
      ]
     },
     "execution_count": 23,
     "metadata": {},
     "output_type": "execute_result"
    }
   ],
   "source": [
    "lbl=LabelEncoder()\n",
    "categorical=['Sex']\n",
    "for i in categorical:\n",
    " T_train[i]=lbl.fit_transform(T_train[i])\n",
    "T_train.head()\n"
   ]
  },
  {
   "cell_type": "code",
   "execution_count": 24,
   "id": "4522b0a5",
   "metadata": {
    "scrolled": true
   },
   "outputs": [
    {
     "data": {
      "text/html": [
       "<div>\n",
       "<style scoped>\n",
       "    .dataframe tbody tr th:only-of-type {\n",
       "        vertical-align: middle;\n",
       "    }\n",
       "\n",
       "    .dataframe tbody tr th {\n",
       "        vertical-align: top;\n",
       "    }\n",
       "\n",
       "    .dataframe thead th {\n",
       "        text-align: right;\n",
       "    }\n",
       "</style>\n",
       "<table border=\"1\" class=\"dataframe\">\n",
       "  <thead>\n",
       "    <tr style=\"text-align: right;\">\n",
       "      <th></th>\n",
       "      <th>Pclass</th>\n",
       "      <th>Sex</th>\n",
       "      <th>Age</th>\n",
       "      <th>SibSp</th>\n",
       "      <th>Parch</th>\n",
       "      <th>Fare</th>\n",
       "      <th>Embarked</th>\n",
       "    </tr>\n",
       "  </thead>\n",
       "  <tbody>\n",
       "    <tr>\n",
       "      <th>0</th>\n",
       "      <td>3</td>\n",
       "      <td>1</td>\n",
       "      <td>34.5</td>\n",
       "      <td>0</td>\n",
       "      <td>0</td>\n",
       "      <td>7.8292</td>\n",
       "      <td>Q</td>\n",
       "    </tr>\n",
       "    <tr>\n",
       "      <th>1</th>\n",
       "      <td>3</td>\n",
       "      <td>0</td>\n",
       "      <td>47.0</td>\n",
       "      <td>1</td>\n",
       "      <td>0</td>\n",
       "      <td>7.0000</td>\n",
       "      <td>S</td>\n",
       "    </tr>\n",
       "    <tr>\n",
       "      <th>2</th>\n",
       "      <td>2</td>\n",
       "      <td>1</td>\n",
       "      <td>62.0</td>\n",
       "      <td>0</td>\n",
       "      <td>0</td>\n",
       "      <td>9.6875</td>\n",
       "      <td>Q</td>\n",
       "    </tr>\n",
       "    <tr>\n",
       "      <th>3</th>\n",
       "      <td>3</td>\n",
       "      <td>1</td>\n",
       "      <td>27.0</td>\n",
       "      <td>0</td>\n",
       "      <td>0</td>\n",
       "      <td>8.6625</td>\n",
       "      <td>S</td>\n",
       "    </tr>\n",
       "    <tr>\n",
       "      <th>4</th>\n",
       "      <td>3</td>\n",
       "      <td>0</td>\n",
       "      <td>22.0</td>\n",
       "      <td>1</td>\n",
       "      <td>1</td>\n",
       "      <td>12.2875</td>\n",
       "      <td>S</td>\n",
       "    </tr>\n",
       "  </tbody>\n",
       "</table>\n",
       "</div>"
      ],
      "text/plain": [
       "   Pclass  Sex   Age  SibSp  Parch     Fare Embarked\n",
       "0       3    1  34.5      0      0   7.8292        Q\n",
       "1       3    0  47.0      1      0   7.0000        S\n",
       "2       2    1  62.0      0      0   9.6875        Q\n",
       "3       3    1  27.0      0      0   8.6625        S\n",
       "4       3    0  22.0      1      1  12.2875        S"
      ]
     },
     "execution_count": 24,
     "metadata": {},
     "output_type": "execute_result"
    }
   ],
   "source": [
    "lbl=LabelEncoder()\n",
    "categorical=['Sex']\n",
    "for i in categorical:\n",
    " T_test[i]=lbl.fit_transform(T_test[i])\n",
    "T_test.head()\n"
   ]
  },
  {
   "cell_type": "markdown",
   "id": "d202c0a4",
   "metadata": {},
   "source": [
    "Converting Embarked feature into numerical using dummies function"
   ]
  },
  {
   "cell_type": "code",
   "execution_count": 25,
   "id": "64a01f27",
   "metadata": {},
   "outputs": [],
   "source": [
    "Em = T_train[['Embarked']]\n",
    "cat_list = pd.get_dummies(Em)\n",
    "df=T_train.join(cat_list)\n",
    "data_vars=df.columns.values.tolist()"
   ]
  },
  {
   "cell_type": "code",
   "execution_count": 26,
   "id": "a1281d96",
   "metadata": {},
   "outputs": [],
   "source": [
    "Emt = T_test[['Embarked']]\n",
    "cats_list = pd.get_dummies(Emt)\n",
    "dft=T_test.join(cats_list)\n",
    "data_vars=dft.columns.values.tolist()"
   ]
  },
  {
   "cell_type": "code",
   "execution_count": 27,
   "id": "f18d5093",
   "metadata": {},
   "outputs": [],
   "source": [
    "df = df.drop([\"Embarked\"], axis = 1)\n",
    "dft = dft.drop([\"Embarked\"], axis = 1)"
   ]
  },
  {
   "cell_type": "markdown",
   "id": "ff3c57b5",
   "metadata": {},
   "source": [
    "# Final Model"
   ]
  },
  {
   "cell_type": "markdown",
   "id": "cae57435",
   "metadata": {},
   "source": [
    "X - all features except 'survived'                                                                                              \n",
    "y - survived (dependent variable)                                                                                                \n",
    "X_test - features from test data set"
   ]
  },
  {
   "cell_type": "code",
   "execution_count": 28,
   "id": "ddc2e28e",
   "metadata": {},
   "outputs": [],
   "source": [
    "X = df.iloc[:, 1:]\n",
    "y = df.iloc[:,0]\n",
    "X_test = dft.iloc[:, 0:]"
   ]
  },
  {
   "cell_type": "markdown",
   "id": "05990457",
   "metadata": {},
   "source": [
    "using standard scaler to scale the data set"
   ]
  },
  {
   "cell_type": "code",
   "execution_count": 29,
   "id": "9d62d121",
   "metadata": {},
   "outputs": [],
   "source": [
    "scaler = StandardScaler()\n",
    "X_std = scaler.fit_transform(X)\n",
    "X_std_test = scaler.fit_transform(X_test)"
   ]
  },
  {
   "cell_type": "code",
   "execution_count": 30,
   "id": "1da772a9",
   "metadata": {},
   "outputs": [],
   "source": [
    "\n",
    "from sklearn.tree import DecisionTreeClassifier\n",
    "from sklearn.ensemble import RandomForestClassifier\n",
    "from sklearn.linear_model import LogisticRegression\n",
    "from sklearn.neighbors import KNeighborsClassifier\n",
    "from sklearn.svm import SVC, LinearSVC\n",
    "from sklearn.metrics import r2_score,accuracy_score\n",
    "from sklearn.metrics import confusion_matrix,classification_report\n",
    "from sklearn.metrics import mean_absolute_error"
   ]
  },
  {
   "cell_type": "markdown",
   "id": "d98e4220",
   "metadata": {},
   "source": [
    "# Random Forests"
   ]
  },
  {
   "cell_type": "code",
   "execution_count": 31,
   "id": "fa75ed96",
   "metadata": {},
   "outputs": [],
   "source": [
    "random_forest = RandomForestClassifier(n_estimators=1000, max_depth=5,random_state=100)\n",
    "random_forest.fit(X_std, y)\n",
    "y_pred = random_forest.predict(X_std_test)"
   ]
  },
  {
   "cell_type": "markdown",
   "id": "64f7eb46",
   "metadata": {},
   "source": [
    "To submit the predictions, we create a data frame with passenger id and predicitons and the convert the data frame to csv file to sumbit on kaggle"
   ]
  },
  {
   "cell_type": "code",
   "execution_count": 23,
   "id": "a5f546ce",
   "metadata": {},
   "outputs": [],
   "source": [
    "submission = pd.DataFrame({'PassengerId':idPass, 'Survived': y_pred})\n",
    "\n",
    "submission.to_csv('T3_3.csv', index=False)\n"
   ]
  },
  {
   "cell_type": "markdown",
   "id": "dc75e1e0",
   "metadata": {},
   "source": [
    "We as a team tried different methods and different combinations and the best rank achieved was 855/14000\n",
    "\n",
    "9000 rank  - logistic regression + standard scaler                                                                              \n",
    "4211 rank    - robust scaler + random forests                                                                                   \n",
    "2193 rank   - KNN imputation + random forests + Standard Scaler                                                                \n",
    "855 rank    - standard scaler + random forests (missing values filled with mean)\n"
   ]
  }
 ],
 "metadata": {
  "kernelspec": {
   "display_name": "Python 3 (ipykernel)",
   "language": "python",
   "name": "python3"
  },
  "language_info": {
   "codemirror_mode": {
    "name": "ipython",
    "version": 3
   },
   "file_extension": ".py",
   "mimetype": "text/x-python",
   "name": "python",
   "nbconvert_exporter": "python",
   "pygments_lexer": "ipython3",
   "version": "3.9.12"
  }
 },
 "nbformat": 4,
 "nbformat_minor": 5
}
